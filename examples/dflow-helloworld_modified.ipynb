{
 "cells": [
  {
   "cell_type": "markdown",
   "id": "c39ba0f6",
   "metadata": {},
   "source": [
    "# <a name=\"hello-world\"></a> A hello-world example of dflow"
   ]
  },
  {
   "cell_type": "markdown",
   "id": "46c8409e",
   "metadata": {},
   "source": [
    "Define a Python OP"
   ]
  },
  {
   "cell_type": "code",
   "execution_count": 22,
   "id": "bf4691c3",
   "metadata": {},
   "outputs": [],
   "source": [
    "from pathlib import Path\n",
    "from dflow.python import OP, Artifact\n",
    "import numpy as np\n",
    "import os\n",
    "import pytz, dateutil\n",
    "import torch\n",
    "@OP.function\n",
    "def duplicate(num: int, foo: Artifact(Path)) -> {\"num\": int, \"bar\": Artifact(Path)}:\n",
    "    with open(foo, \"r\") as f:\n",
    "        content = f.read()\n",
    "        print(content)\n",
    "    with open(\"bar.txt\", \"w\") as f:\n",
    "        f.write(content * 2)\n",
    "    num_ = num * 2\n",
    "    print(\"num_\", num_)\n",
    "    return {\n",
    "        \"num\": num_,\n",
    "        \"bar\": Path(\"bar.txt\"),\n",
    "    }"
   ]
  },
  {
   "cell_type": "markdown",
   "id": "b396f8ed",
   "metadata": {},
   "source": [
    "Upload the input file"
   ]
  },
  {
   "cell_type": "code",
   "execution_count": 23,
   "id": "0fd9bdf4",
   "metadata": {},
   "outputs": [],
   "source": [
    "from dflow import upload_artifact\n",
    "import deepchem.data\n",
    "\n",
    "art = upload_artifact(\"foo.txt\")"
   ]
  },
  {
   "cell_type": "code",
   "execution_count": 24,
   "id": "415056c6",
   "metadata": {},
   "outputs": [
    {
     "name": "stdout",
     "output_type": "stream",
     "text": [
      "<dflow.common.LocalArtifact object at 0x2a4841590>\n"
     ]
    }
   ],
   "source": [
    "from dflow import LocalArtifact\n",
    "\n",
    "# Assuming 'trainBBBP.csv' is in the current working directory\n",
    "foo_art = LocalArtifact(local_path=\"foo.txt\")\n",
    "print(foo_art)"
   ]
  },
  {
   "cell_type": "code",
   "execution_count": 25,
   "id": "a1d0bbe7",
   "metadata": {},
   "outputs": [
    {
     "name": "stdout",
     "output_type": "stream",
     "text": [
      "/Users/star/Desktop/DeepPotential/Dflow_Star\n"
     ]
    }
   ],
   "source": [
    "import os\n",
    "print(os.getcwd())"
   ]
  },
  {
   "cell_type": "markdown",
   "id": "948010a9",
   "metadata": {},
   "source": [
    "Instantiate a step with the dispatcher executor and the uploaded artifact"
   ]
  },
  {
   "cell_type": "code",
   "execution_count": 26,
   "id": "e1028047",
   "metadata": {},
   "outputs": [],
   "source": [
    "from dflow.python import PythonOPTemplate\n",
    "from dflow import Step\n",
    "import sys\n",
    "\n",
    "step1 = Step(\n",
    "    name=\"step1\",\n",
    "    template=PythonOPTemplate(\n",
    "        duplicate, \n",
    "        image=\"python:3.11\",\n",
    "        ),\n",
    "    parameters={\"num\": 1},\n",
    "    artifacts={\"foo\": art},\n",
    ")\n",
    "\n",
    "step2 = Step(\n",
    "    name=\"step2\",\n",
    "    template=PythonOPTemplate(\n",
    "        duplicate, \n",
    "        f\"python:{sys.version_info.major}.{sys.version_info.minor}\",\n",
    "        ),\n",
    "    parameters={\"num\": step1.outputs.parameters[\"num\"]},\n",
    "    artifacts={\"foo\": art},\n",
    ")"
   ]
  },
  {
   "cell_type": "markdown",
   "id": "88e2c217",
   "metadata": {},
   "source": [
    "Add step into a workflow"
   ]
  },
  {
   "cell_type": "code",
   "execution_count": 27,
   "id": "c5510220",
   "metadata": {},
   "outputs": [],
   "source": [
    "from dflow import Workflow\n",
    "\n",
    "wf = Workflow(name=\"python-test\")\n",
    "wf.add(step1)\n",
    "wf.add(step2)"
   ]
  },
  {
   "cell_type": "markdown",
   "id": "6a2aa4bf",
   "metadata": {},
   "source": [
    "Submit the workflow"
   ]
  },
  {
   "cell_type": "code",
   "execution_count": 28,
   "id": "fea0ef8b",
   "metadata": {},
   "outputs": [
    {
     "name": "stdout",
     "output_type": "stream",
     "text": [
      "Workflow has been submitted (ID: python-test-d6vnt, UID: 417072cb-b31b-477c-a728-d8dd2c4736b7)\n",
      "Workflow link: https://127.0.0.1:2746/workflows/argo/python-test-d6vnt\n"
     ]
    },
    {
     "data": {
      "text/plain": [
       "{'metadata': {'name': 'python-test-d6vnt', 'generateName': 'python-test-', 'namespace': 'argo', 'uid': '417072cb-b31b-477c-a728-d8dd2c4736b7', 'resourceVersion': '232239', 'generation': 1, 'creationTimestamp': '2024-01-14T07:15:25Z', 'labels': {'workflows.argoproj.io/creator': 'system-serviceaccount-argo-argo-server'}, 'managedFields': [{'manager': 'argo', 'operation': 'Update', 'apiVersion': 'argoproj.io/v1alpha1', 'time': '2024-01-14T07:15:25Z', 'fieldsType': 'FieldsV1', 'fieldsV1': {'f:metadata': {'f:generateName': {}, 'f:labels': {'.': {}, 'f:workflows.argoproj.io/creator': {}}}, 'f:spec': {}, 'f:status': {}}}]}, 'spec': {'templates': [{'name': 'duplicate-0f0iv', 'inputs': {'parameters': [{'name': 'num', 'description': '{\"type\": \"int\"}'}], 'artifacts': [{'name': 'foo', 'path': '/tmp/inputs/artifacts/foo'}, {'name': 'dflow_python_packages', 'path': '/tmp/inputs/artifacts/dflow_python_packages'}]}, 'outputs': {'parameters': [{'name': 'num', 'valueFrom': {'path': '/tmp/outputs/parameters/num', 'default': 'null'}, 'description': '{\"type\": \"int\"}'}], 'artifacts': [{'name': 'bar', 'path': '/tmp/outputs/artifacts/bar'}]}, 'metadata': {'annotations': {'workflows.argoproj.io/progress': '0/1'}}, 'script': {'name': '', 'image': 'python:3.11', 'command': ['python3'], 'resources': {}, 'source': 'import os, sys, json\\npackage_root = r\\'/tmp/inputs/artifacts/dflow_python_packages\\'\\ncatalog_dir = os.path.join(package_root, \\'.dflow\\')\\nif os.path.exists(catalog_dir):\\n    for f in os.listdir(catalog_dir):\\n        with open(os.path.join(catalog_dir, f), \\'r\\') as fd:\\n            for item in json.load(fd)[\\'path_list\\']:\\n                path = os.path.join(package_root, os.path.dirname(item[\\'dflow_list_item\\']))\\n                sys.path.insert(0, path)\\n                os.environ[\\'PYTHONPATH\\'] = path + \\':\\' + os.environ.get(\\'PYTHONPATH\\', \\'\\')\\nimport json, jsonpickle\\nfrom dflow import config, s3_config\\nconfig.update(jsonpickle.loads(r\\'\\'\\'{\"host\": \"https://127.0.0.1:2746\", \"namespace\": \"argo\", \"token\": null, \"k8s_config_file\": null, \"k8s_api_server\": null, \"private_key_host_path\": null, \"save_path_as_parameter\": false, \"catalog_dir_name\": \".dflow\", \"archive_mode\": \"tar\", \"util_image\": \"python:3.8\", \"util_image_pull_policy\": null, \"extender_image\": \"dptechnology/dflow-extender\", \"extender_image_pull_policy\": null, \"dispatcher_image\": \"dptechnology/dpdispatcher\", \"dispatcher_image_pull_policy\": null, \"save_keys_in_global_outputs\": true, \"mode\": \"default\", \"lineage\": null, \"register_tasks\": false, \"http_headers\": {}, \"workflow_annotations\": {}, \"overwrite_reused_artifact\": true, \"detach\": false, \"debug_copy_method\": \"symlink\", \"debug_pool_workers\": null, \"debug_batch_size\": null, \"debug_batch_interval\": 30, \"detect_empty_dir\": true, \"artifact_register\": {}, \"debug_s3\": false, \"debug_workdir\": \".\", \"debug_artifact_dir\": \".\"}\\'\\'\\'))\\ns3_config.update(jsonpickle.loads(r\\'\\'\\'{\"endpoint\": \"127.0.0.1:9000\", \"console\": \"http://127.0.0.1:9001\", \"access_key\": \"admin\", \"secret_key\": \"password\", \"secure\": false, \"bucket_name\": \"my-bucket\", \"repo_key\": null, \"repo\": null, \"repo_type\": \"s3\", \"repo_prefix\": \"\", \"prefix\": \"\", \"storage_client\": null, \"extra_prefixes\": []}\\'\\'\\'))\\nimport cloudpickle\\nfrom dflow.python import OP\\nduplicate = OP.function(cloudpickle.loads(b\\'\\\\x80\\\\x05\\\\x95\\\\xfb\\\\x1f\\\\x00\\\\x00\\\\x00\\\\x00\\\\x00\\\\x00\\\\x8c\\\\x17cloudpickle.cloudpickle\\\\x94\\\\x8c\\\\x0e_make_function\\\\x94\\\\x93\\\\x94(h\\\\x00\\\\x8c\\\\r_builtin_type\\\\x94\\\\x93\\\\x94\\\\x8c\\\\x08CodeType\\\\x94\\\\x85\\\\x94R\\\\x94(K\\\\x02K\\\\x00K\\\\x00K\\\\x05K\\\\x06K\\\\x03Bf\\\\x01\\\\x00\\\\x00\\\\x97\\\\x00t\\\\x01\\\\x00\\\\x00\\\\x00\\\\x00\\\\x00\\\\x00\\\\x00\\\\x00\\\\x00\\\\x00|\\\\x01d\\\\x01\\\\xa6\\\\x02\\\\x00\\\\x00\\\\xab\\\\x02\\\\x00\\\\x00\\\\x00\\\\x00\\\\x00\\\\x00\\\\x00\\\\x005\\\\x00}\\\\x02|\\\\x02\\\\xa0\\\\x01\\\\x00\\\\x00\\\\x00\\\\x00\\\\x00\\\\x00\\\\x00\\\\x00\\\\x00\\\\x00\\\\x00\\\\x00\\\\x00\\\\x00\\\\x00\\\\x00\\\\x00\\\\x00\\\\x00\\\\x00\\\\xa6\\\\x00\\\\x00\\\\x00\\\\xab\\\\x00\\\\x00\\\\x00\\\\x00\\\\x00\\\\x00\\\\x00\\\\x00\\\\x00}\\\\x03t\\\\x05\\\\x00\\\\x00\\\\x00\\\\x00\\\\x00\\\\x00\\\\x00\\\\x00\\\\x00\\\\x00|\\\\x03\\\\xa6\\\\x01\\\\x00\\\\x00\\\\xab\\\\x01\\\\x00\\\\x00\\\\x00\\\\x00\\\\x00\\\\x00\\\\x00\\\\x00\\\\x01\\\\x00d\\\\x00d\\\\x00d\\\\x00\\\\xa6\\\\x02\\\\x00\\\\x00\\\\xab\\\\x02\\\\x00\\\\x00\\\\x00\\\\x00\\\\x00\\\\x00\\\\x00\\\\x00\\\\x01\\\\x00n\\\\x0b#\\\\x001\\\\x00s\\\\x04w\\\\x02x\\\\x03Y\\\\x00w\\\\x01\\\\x01\\\\x00Y\\\\x00\\\\x01\\\\x00\\\\x01\\\\x00t\\\\x01\\\\x00\\\\x00\\\\x00\\\\x00\\\\x00\\\\x00\\\\x00\\\\x00\\\\x00\\\\x00d\\\\x02d\\\\x03\\\\xa6\\\\x02\\\\x00\\\\x00\\\\xab\\\\x02\\\\x00\\\\x00\\\\x00\\\\x00\\\\x00\\\\x00\\\\x00\\\\x005\\\\x00}\\\\x02|\\\\x02\\\\xa0\\\\x03\\\\x00\\\\x00\\\\x00\\\\x00\\\\x00\\\\x00\\\\x00\\\\x00\\\\x00\\\\x00\\\\x00\\\\x00\\\\x00\\\\x00\\\\x00\\\\x00\\\\x00\\\\x00\\\\x00\\\\x00|\\\\x03d\\\\x04z\\\\x05\\\\x00\\\\x00\\\\xa6\\\\x01\\\\x00\\\\x00\\\\xab\\\\x01\\\\x00\\\\x00\\\\x00\\\\x00\\\\x00\\\\x00\\\\x00\\\\x00\\\\x01\\\\x00d\\\\x00d\\\\x00d\\\\x00\\\\xa6\\\\x02\\\\x00\\\\x00\\\\xab\\\\x02\\\\x00\\\\x00\\\\x00\\\\x00\\\\x00\\\\x00\\\\x00\\\\x00\\\\x01\\\\x00n\\\\x0b#\\\\x001\\\\x00s\\\\x04w\\\\x02x\\\\x03Y\\\\x00w\\\\x01\\\\x01\\\\x00Y\\\\x00\\\\x01\\\\x00\\\\x01\\\\x00|\\\\x00d\\\\x04z\\\\x05\\\\x00\\\\x00}\\\\x04t\\\\x05\\\\x00\\\\x00\\\\x00\\\\x00\\\\x00\\\\x00\\\\x00\\\\x00\\\\x00\\\\x00d\\\\x05|\\\\x04\\\\xa6\\\\x02\\\\x00\\\\x00\\\\xab\\\\x02\\\\x00\\\\x00\\\\x00\\\\x00\\\\x00\\\\x00\\\\x00\\\\x00\\\\x01\\\\x00|\\\\x04t\\\\t\\\\x00\\\\x00\\\\x00\\\\x00\\\\x00\\\\x00\\\\x00\\\\x00\\\\x00\\\\x00d\\\\x02\\\\xa6\\\\x01\\\\x00\\\\x00\\\\xab\\\\x01\\\\x00\\\\x00\\\\x00\\\\x00\\\\x00\\\\x00\\\\x00\\\\x00d\\\\x06\\\\x9c\\\\x02S\\\\x00\\\\x94(N\\\\x8c\\\\x01r\\\\x94\\\\x8c\\\\x07bar.txt\\\\x94\\\\x8c\\\\x01w\\\\x94K\\\\x02\\\\x8c\\\\x04num_\\\\x94\\\\x8c\\\\x03num\\\\x94\\\\x8c\\\\x03bar\\\\x94\\\\x86\\\\x94t\\\\x94(\\\\x8c\\\\x04open\\\\x94\\\\x8c\\\\x04read\\\\x94\\\\x8c\\\\x05print\\\\x94\\\\x8c\\\\x05write\\\\x94\\\\x8c\\\\x04Path\\\\x94t\\\\x94(h\\\\r\\\\x8c\\\\x03foo\\\\x94\\\\x8c\\\\x01f\\\\x94\\\\x8c\\\\x07content\\\\x94h\\\\x0ct\\\\x94\\\\x8cN/var/folders/v7/0mwcqlzd0c56flv47rkmgwj80000gp/T/ipykernel_94055/3022754942.py\\\\x94\\\\x8c\\\\tduplicate\\\\x94h\\\\x1cK\\\\x07B(\\\\x01\\\\x00\\\\x00\\\\x80\\\\x00\\\\xe5\\\\t\\\\r\\\\x88c\\\\x903\\\\x89\\\\x1e\\\\x8c\\\\x1e\\\\xf0\\\\x00\\\\x02\\\\x05\\\\x17\\\\x981\\\\xd8\\\\x12\\\\x13\\\\x97&\\\\x92&\\\\x91(\\\\x94(\\\\x88\\\\x07\\\\xdd\\\\x08\\\\r\\\\x88g\\\\x89\\\\x0e\\\\x8c\\\\x0e\\\\x88\\\\x0e\\\\xf0\\\\x05\\\\x02\\\\x05\\\\x17\\\\xf0\\\\x00\\\\x02\\\\x05\\\\x17\\\\xf0\\\\x00\\\\x02\\\\x05\\\\x17\\\\xf1\\\\x00\\\\x02\\\\x05\\\\x17\\\\xf4\\\\x00\\\\x02\\\\x05\\\\x17\\\\xf0\\\\x00\\\\x02\\\\x05\\\\x17\\\\xf0\\\\x00\\\\x02\\\\x05\\\\x17\\\\xf0\\\\x00\\\\x02\\\\x05\\\\x17\\\\xf0\\\\x00\\\\x02\\\\x05\\\\x17\\\\xf0\\\\x00\\\\x02\\\\x05\\\\x17\\\\xf0\\\\x00\\\\x02\\\\x05\\\\x17\\\\xf8\\\\xf8\\\\xf8\\\\xf0\\\\x00\\\\x02\\\\x05\\\\x17\\\\xf0\\\\x00\\\\x02\\\\x05\\\\x17\\\\xf0\\\\x00\\\\x02\\\\x05\\\\x17\\\\xf0\\\\x00\\\\x02\\\\x05\\\\x17\\\\xf5\\\\x06\\\\x00\\\\n\\\\x0e\\\\x88i\\\\x98\\\\x13\\\\xd1\\\\t\\\\x1d\\\\xd4\\\\t\\\\x1d\\\\xf0\\\\x00\\\\x01\\\\x05\\\\x1d\\\\xa0\\\\x11\\\\xd8\\\\x08\\\\t\\\\x8f\\\\x07\\\\x8a\\\\x07\\\\x90\\\\x07\\\\x98!\\\\x91\\\\x0b\\\\xd1\\\\x08\\\\x1c\\\\xd4\\\\x08\\\\x1c\\\\xd0\\\\x08\\\\x1c\\\\xf0\\\\x03\\\\x01\\\\x05\\\\x1d\\\\xf0\\\\x00\\\\x01\\\\x05\\\\x1d\\\\xf0\\\\x00\\\\x01\\\\x05\\\\x1d\\\\xf1\\\\x00\\\\x01\\\\x05\\\\x1d\\\\xf4\\\\x00\\\\x01\\\\x05\\\\x1d\\\\xf0\\\\x00\\\\x01\\\\x05\\\\x1d\\\\xf0\\\\x00\\\\x01\\\\x05\\\\x1d\\\\xf0\\\\x00\\\\x01\\\\x05\\\\x1d\\\\xf0\\\\x00\\\\x01\\\\x05\\\\x1d\\\\xf0\\\\x00\\\\x01\\\\x05\\\\x1d\\\\xf0\\\\x00\\\\x01\\\\x05\\\\x1d\\\\xf8\\\\xf8\\\\xf8\\\\xf0\\\\x00\\\\x01\\\\x05\\\\x1d\\\\xf0\\\\x00\\\\x01\\\\x05\\\\x1d\\\\xf0\\\\x00\\\\x01\\\\x05\\\\x1d\\\\xf0\\\\x00\\\\x01\\\\x05\\\\x1d\\\\xe0\\\\x0b\\\\x0e\\\\x90\\\\x11\\\\x897\\\\x80D\\\\xdd\\\\x04\\\\t\\\\x88&\\\\x90$\\\\xd1\\\\x04\\\\x17\\\\xd4\\\\x04\\\\x17\\\\xd0\\\\x04\\\\x17\\\\xe0\\\\x0f\\\\x13\\\\xdd\\\\x0f\\\\x13\\\\x90I\\\\x89\\\\x7f\\\\x8c\\\\x7f\\\\xf0\\\\x05\\\\x03\\\\x0c\\\\x06\\\\xf0\\\\x00\\\\x03\\\\x0c\\\\x06\\\\xf0\\\\x00\\\\x03\\\\x05\\\\x06\\\\x94C#\\\\x91$A\\\\x01\\\\x03\\\\xc1\\\\x01\\\\x04A\\\\x05\\\\x07\\\\xc1\\\\x08\\\\x01A\\\\x05\\\\x07\\\\xc1\\\\x1c\\\\x19B\\\\x01\\\\x03\\\\xc2\\\\x01\\\\x04B\\\\x05\\\\x07\\\\xc2\\\\x08\\\\x01B\\\\x05\\\\x07\\\\x94))t\\\\x94R\\\\x94}\\\\x94(\\\\x8c\\\\x0b__package__\\\\x94N\\\\x8c\\\\x08__name__\\\\x94\\\\x8c\\\\x08__main__\\\\x94uNNNt\\\\x94R\\\\x94\\\\x8c\\\\x1ccloudpickle.cloudpickle_fast\\\\x94\\\\x8c\\\\x12_function_setstate\\\\x94\\\\x93\\\\x94h&}\\\\x94}\\\\x94(h#h\\\\x1c\\\\x8c\\\\x0c__qualname__\\\\x94h\\\\x1c\\\\x8c\\\\x0f__annotations__\\\\x94}\\\\x94(h\\\\r\\\\x8c\\\\x08builtins\\\\x94\\\\x8c\\\\x03int\\\\x94\\\\x93\\\\x94h\\\\x17\\\\x8c\\\\x11dflow.python.opio\\\\x94\\\\x8c\\\\x08Artifact\\\\x94\\\\x93\\\\x94)\\\\x81\\\\x94}\\\\x94(\\\\x8c\\\\x04type\\\\x94\\\\x8c\\\\x07pathlib\\\\x94h\\\\x15\\\\x93\\\\x94\\\\x8c\\\\x07archive\\\\x94\\\\x8c\\\\x03tar\\\\x94\\\\x8c\\\\x04save\\\\x94N\\\\x8c\\\\x08optional\\\\x94\\\\x89\\\\x8c\\\\x0bglobal_name\\\\x94N\\\\x8c\\\\x08sub_path\\\\x94\\\\x88ub\\\\x8c\\\\x06return\\\\x94}\\\\x94(h\\\\rh1h\\\\x0eh4)\\\\x81\\\\x94}\\\\x94(h7h9h:h;h<Nh=\\\\x89h>Nh?\\\\x88ubuu\\\\x8c\\\\x0e__kwdefaults__\\\\x94N\\\\x8c\\\\x0c__defaults__\\\\x94N\\\\x8c\\\\n__module__\\\\x94h$\\\\x8c\\\\x07__doc__\\\\x94N\\\\x8c\\\\x0b__closure__\\\\x94N\\\\x8c\\\\x17_cloudpickle_submodules\\\\x94]\\\\x94\\\\x8c\\\\x0b__globals__\\\\x94}\\\\x94(h\\\\x11h\\\\x02(h\\\\x07(K\\\\x01K\\\\x00K\\\\x00K\\\\x03K\\\\x05K\\\\x0fCP\\\\x97\\\\x00|\\\\x00d\\\\x01v\\\\x00r\\\\x13t\\\\x01\\\\x00\\\\x00\\\\x00\\\\x00\\\\x00\\\\x00\\\\x00\\\\x00\\\\x00\\\\x00d\\\\x02|\\\\x00\\\\x9b\\\\x00d\\\\x03\\\\x9d\\\\x03\\\\xa6\\\\x01\\\\x00\\\\x00\\\\xab\\\\x01\\\\x00\\\\x00\\\\x00\\\\x00\\\\x00\\\\x00\\\\x00\\\\x00\\\\x82\\\\x01t\\\\x03\\\\x00\\\\x00\\\\x00\\\\x00\\\\x00\\\\x00\\\\x00\\\\x00\\\\x00\\\\x00|\\\\x00g\\\\x01|\\\\x01\\\\xa2\\\\x01R\\\\x00i\\\\x00|\\\\x02\\\\xa4\\\\x01\\\\x8e\\\\x01S\\\\x00\\\\x94(N(K\\\\x00K\\\\x01K\\\\x02\\\\x91\\\\x94\\\\x8c\\\\x1eIPython won\\\\\\'t let you open fd=\\\\x94\\\\x8ci by default as it is likely to crash IPython. If you know what you are doing, you can use builtins\\\\\\' open.\\\\x94t\\\\x94\\\\x8c\\\\nValueError\\\\x94\\\\x8c\\\\x07io_open\\\\x94\\\\x86\\\\x94\\\\x8c\\\\x04file\\\\x94\\\\x8c\\\\x04args\\\\x94\\\\x8c\\\\x06kwargs\\\\x94\\\\x87\\\\x94\\\\x8cS/Users/star/anaconda3/lib/python3.11/site-packages/IPython/core/interactiveshell.py\\\\x94\\\\x8c\\\\x0e_modified_open\\\\x94hZM\\\\x15\\\\x01CU\\\\x80\\\\x00\\\\xe0\\\\x07\\\\x0b\\\\x88y\\\\xd0\\\\x07\\\\x18\\\\xd0\\\\x07\\\\x18\\\\xdd\\\\x0e\\\\x18\\\\xf0\\\\x02\\\\x02\\\\r*\\\\xa8T\\\\xf0\\\\x00\\\\x02\\\\r*\\\\xf0\\\\x00\\\\x02\\\\r*\\\\xf0\\\\x00\\\\x02\\\\r*\\\\xf1\\\\x03\\\\x04\\\\x0f\\\\n\\\\xf4\\\\x00\\\\x04\\\\x0f\\\\n\\\\xf0\\\\x00\\\\x04\\\\t\\\\n\\\\xf5\\\\x0c\\\\x00\\\\x0c\\\\x13\\\\x904\\\\xd0\\\\x0b)\\\\x98$\\\\xd0\\\\x0b)\\\\xd0\\\\x0b)\\\\xd0\\\\x0b)\\\\xa0&\\\\xd0\\\\x0b)\\\\xd0\\\\x0b)\\\\xd0\\\\x04)\\\\x94C\\\\x00\\\\x94))t\\\\x94R\\\\x94}\\\\x94(h\"\\\\x8c\\\\x0cIPython.core\\\\x94h#\\\\x8c\\\\x1dIPython.core.interactiveshell\\\\x94\\\\x8c\\\\x08__file__\\\\x94hYuNNNt\\\\x94R\\\\x94h)hd}\\\\x94\\\\x8c\\\\x0b__wrapped__\\\\x94\\\\x8c\\\\x02io\\\\x94\\\\x8c\\\\x04open\\\\x94\\\\x93\\\\x94s}\\\\x94(h#\\\\x8c\\\\x04open\\\\x94h,\\\\x8c\\\\x04open\\\\x94h-}\\\\x94hDNhENhFhghGXv\\\\x17\\\\x00\\\\x00Open file and return a stream.  Raise OSError upon failure.\\\\n\\\\nfile is either a text or byte string giving the name (and the path\\\\nif the file isn\\\\\\'t in the current working directory) of the file to\\\\nbe opened or an integer file descriptor of the file to be\\\\nwrapped. (If a file descriptor is given, it is closed when the\\\\nreturned I/O object is closed, unless closefd is set to False.)\\\\n\\\\nmode is an optional string that specifies the mode in which the file\\\\nis opened. It defaults to \\\\\\'r\\\\\\' which means open for reading in text\\\\nmode.  Other common values are \\\\\\'w\\\\\\' for writing (truncating the file if\\\\nit already exists), \\\\\\'x\\\\\\' for creating and writing to a new file, and\\\\n\\\\\\'a\\\\\\' for appending (which on some Unix systems, means that all writes\\\\nappend to the end of the file regardless of the current seek position).\\\\nIn text mode, if encoding is not specified the encoding used is platform\\\\ndependent: locale.getencoding() is called to get the current locale encoding.\\\\n(For reading and writing raw bytes use binary mode and leave encoding\\\\nunspecified.) The available modes are:\\\\n\\\\n========= ===============================================================\\\\nCharacter Meaning\\\\n--------- ---------------------------------------------------------------\\\\n\\\\\\'r\\\\\\'       open for reading (default)\\\\n\\\\\\'w\\\\\\'       open for writing, truncating the file first\\\\n\\\\\\'x\\\\\\'       create a new file and open it for writing\\\\n\\\\\\'a\\\\\\'       open for writing, appending to the end of the file if it exists\\\\n\\\\\\'b\\\\\\'       binary mode\\\\n\\\\\\'t\\\\\\'       text mode (default)\\\\n\\\\\\'+\\\\\\'       open a disk file for updating (reading and writing)\\\\n========= ===============================================================\\\\n\\\\nThe default mode is \\\\\\'rt\\\\\\' (open for reading text). For binary random\\\\naccess, the mode \\\\\\'w+b\\\\\\' opens and truncates the file to 0 bytes, while\\\\n\\\\\\'r+b\\\\\\' opens the file without truncation. The \\\\\\'x\\\\\\' mode implies \\\\\\'w\\\\\\' and\\\\nraises an `FileExistsError` if the file already exists.\\\\n\\\\nPython distinguishes between files opened in binary and text modes,\\\\neven when the underlying operating system doesn\\\\\\'t. Files opened in\\\\nbinary mode (appending \\\\\\'b\\\\\\' to the mode argument) return contents as\\\\nbytes objects without any decoding. In text mode (the default, or when\\\\n\\\\\\'t\\\\\\' is appended to the mode argument), the contents of the file are\\\\nreturned as strings, the bytes having been first decoded using a\\\\nplatform-dependent encoding or using the specified encoding if given.\\\\n\\\\nbuffering is an optional integer used to set the buffering policy.\\\\nPass 0 to switch buffering off (only allowed in binary mode), 1 to select\\\\nline buffering (only usable in text mode), and an integer > 1 to indicate\\\\nthe size of a fixed-size chunk buffer.  When no buffering argument is\\\\ngiven, the default buffering policy works as follows:\\\\n\\\\n* Binary files are buffered in fixed-size chunks; the size of the buffer\\\\n  is chosen using a heuristic trying to determine the underlying device\\\\\\'s\\\\n  \"block size\" and falling back on `io.DEFAULT_BUFFER_SIZE`.\\\\n  On many systems, the buffer will typically be 4096 or 8192 bytes long.\\\\n\\\\n* \"Interactive\" text files (files for which isatty() returns True)\\\\n  use line buffering.  Other text files use the policy described above\\\\n  for binary files.\\\\n\\\\nencoding is the name of the encoding used to decode or encode the\\\\nfile. This should only be used in text mode. The default encoding is\\\\nplatform dependent, but any encoding supported by Python can be\\\\npassed.  See the codecs module for the list of supported encodings.\\\\n\\\\nerrors is an optional string that specifies how encoding errors are to\\\\nbe handled---this argument should not be used in binary mode. Pass\\\\n\\\\\\'strict\\\\\\' to raise a ValueError exception if there is an encoding error\\\\n(the default of None has the same effect), or pass \\\\\\'ignore\\\\\\' to ignore\\\\nerrors. (Note that ignoring encoding errors can lead to data loss.)\\\\nSee the documentation for codecs.register or run \\\\\\'help(codecs.Codec)\\\\\\'\\\\nfor a list of the permitted encoding error strings.\\\\n\\\\nnewline controls how universal newlines works (it only applies to text\\\\nmode). It can be None, \\\\\\'\\\\\\', \\\\\\'\\\\\\\\n\\\\\\', \\\\\\'\\\\\\\\r\\\\\\', and \\\\\\'\\\\\\\\r\\\\\\\\n\\\\\\'.  It works as\\\\nfollows:\\\\n\\\\n* On input, if newline is None, universal newlines mode is\\\\n  enabled. Lines in the input can end in \\\\\\'\\\\\\\\n\\\\\\', \\\\\\'\\\\\\\\r\\\\\\', or \\\\\\'\\\\\\\\r\\\\\\\\n\\\\\\', and\\\\n  these are translated into \\\\\\'\\\\\\\\n\\\\\\' before being returned to the\\\\n  caller. If it is \\\\\\'\\\\\\', universal newline mode is enabled, but line\\\\n  endings are returned to the caller untranslated. If it has any of\\\\n  the other legal values, input lines are only terminated by the given\\\\n  string, and the line ending is returned to the caller untranslated.\\\\n\\\\n* On output, if newline is None, any \\\\\\'\\\\\\\\n\\\\\\' characters written are\\\\n  translated to the system default line separator, os.linesep. If\\\\n  newline is \\\\\\'\\\\\\' or \\\\\\'\\\\\\\\n\\\\\\', no translation takes place. If newline is any\\\\n  of the other legal values, any \\\\\\'\\\\\\\\n\\\\\\' characters written are translated\\\\n  to the given string.\\\\n\\\\nIf closefd is False, the underlying file descriptor will be kept open\\\\nwhen the file is closed. This does not work when a file name is given\\\\nand must be True in that case.\\\\n\\\\nA custom opener can be used by passing a callable as *opener*. The\\\\nunderlying file descriptor for the file object is then obtained by\\\\ncalling *opener* with (*file*, *flags*). *opener* must return an open\\\\nfile descriptor (passing os.open as *opener* results in functionality\\\\nsimilar to passing None).\\\\n\\\\nopen() returns a file object whose type depends on the mode, and\\\\nthrough which the standard file operations such as reading and writing\\\\nare performed. When open() is used to open a file in a text mode (\\\\\\'w\\\\\\',\\\\n\\\\\\'r\\\\\\', \\\\\\'wt\\\\\\', \\\\\\'rt\\\\\\', etc.), it returns a TextIOWrapper. When used to open\\\\na file in a binary mode, the returned class varies: in read binary\\\\nmode, it returns a BufferedReader; in write binary and append binary\\\\nmodes, it returns a BufferedWriter, and in read/write mode, it returns\\\\na BufferedRandom.\\\\n\\\\nIt is also possible to use a string or bytearray as a file for both\\\\nreading and writing. For strings StringIO can be used like a file\\\\nopened in a text mode, and for bytes a BytesIO can be used like a file\\\\nopened in a binary mode.\\\\x94hHNhI]\\\\x94hK}\\\\x94hShisu\\\\x86\\\\x94\\\\x86R0h\\\\x15h9uu\\\\x86\\\\x94\\\\x86R0.\\'))\\nimport os, sys, traceback, jsonpickle\\nfrom dflow.python import OPIO, TransientError, FatalError\\nfrom dflow.python.utils import handle_input_artifact, handle_input_parameter\\nfrom dflow.python.utils import handle_output_artifact, handle_output_parameter, handle_lineage\\nfrom __main__ import duplicate\\n\\nop_obj = duplicate\\nop_obj.key = \\'{{=inputs.parameters.dflow_key}}\\'\\nif op_obj.key.startswith(\\'{\\'): op_obj.key = None\\nop_obj.workflow_name = \\'{{workflow.name}}\\'\\nif __name__ == \\'__main__\\':\\n    input = OPIO()\\n    input_sign = duplicate.get_input_sign()\\n    output_sign = duplicate.get_output_sign()\\n    input[\\'num\\'] = handle_input_parameter(\\'num\\', r\\'\\'\\'{{inputs.parameters.num}}\\'\\'\\', input_sign[\\'num\\'], None, r\\'/tmp\\')\\n    input[\\'foo\\'] = handle_input_artifact(\\'foo\\', input_sign[\\'foo\\'], None, r\\'/tmp\\', None, n_parts=None, keys_of_parts=None, prefix=None)\\n    try:\\n        output = op_obj.execute(input)\\n    except TransientError:\\n        traceback.print_exc()\\n        sys.exit(1)\\n    except FatalError:\\n        traceback.print_exc()\\n        sys.exit(2)\\n    os.makedirs(r\\'/tmp/outputs/parameters\\', exist_ok=True)\\n    os.makedirs(r\\'/tmp/outputs/artifacts\\', exist_ok=True)\\n    handle_output_parameter(\\'num\\', output[\\'num\\'], output_sign[\\'num\\'], None, r\\'/tmp\\')\\n    handle_output_artifact(\\'bar\\', output[\\'bar\\'], output_sign[\\'bar\\'], None, r\\'/tmp\\')\\n'}}, {'name': 'python-test-steps', 'inputs': {}, 'outputs': {}, 'metadata': {}, 'steps': [[{'name': 'step1', 'template': 'duplicate-0f0iv', 'arguments': {'parameters': [{'name': 'num', 'value': '1', 'description': '{\"type\": \"int\"}'}], 'artifacts': [{'name': 'foo', 'path': '/tmp/inputs/artifacts/foo', 's3': {'key': 'upload/a3b96a6b-aaaa-4cc1-b3e7-ed08777ac730/tmpuhigzxhf.tgz'}}, {'name': 'dflow_python_packages', 'path': '/tmp/inputs/artifacts/dflow_python_packages', 's3': {'key': 'upload/4cde6c53-abe7-4e90-96e0-035741833b84/tmpc74jo4qq.tgz'}}]}, 'continueOn': {}}], [{'name': 'step2', 'template': 'duplicate-0f0iv', 'arguments': {'parameters': [{'name': 'num', 'value': \"{{=steps['step1'].outputs.parameters['num']}}\", 'description': '{\"type\": \"int\"}'}], 'artifacts': [{'name': 'foo', 'path': '/tmp/inputs/artifacts/foo', 's3': {'key': 'upload/a3b96a6b-aaaa-4cc1-b3e7-ed08777ac730/tmpuhigzxhf.tgz'}}, {'name': 'dflow_python_packages', 'path': '/tmp/inputs/artifacts/dflow_python_packages', 's3': {'key': 'upload/4cde6c53-abe7-4e90-96e0-035741833b84/tmpc74jo4qq.tgz'}}]}, 'continueOn': {}}]]}], 'entrypoint': 'python-test-steps', 'arguments': {}, 'serviceAccountName': 'argo', 'podGC': {}}, 'status': {'startedAt': None, 'finishedAt': None}, 'id': 'python-test-d6vnt', 'uid': '417072cb-b31b-477c-a728-d8dd2c4736b7'}"
      ]
     },
     "execution_count": 28,
     "metadata": {},
     "output_type": "execute_result"
    }
   ],
   "source": [
    "wf.submit()"
   ]
  },
  {
   "cell_type": "markdown",
   "id": "fcb86911",
   "metadata": {},
   "source": [
    "# <a name=\"Argo-UI\"></a> Argo UI"
   ]
  },
  {
   "cell_type": "markdown",
   "id": "a892ecb3",
   "metadata": {},
   "source": [
    "After finishing the previous steps, we can access the workflow we just ran on the UI (https://127.0.0.1:2746)"
   ]
  }
 ],
 "metadata": {
  "kernelspec": {
   "display_name": "Python 3 (ipykernel)",
   "language": "python",
   "name": "python3"
  },
  "language_info": {
   "codemirror_mode": {
    "name": "ipython",
    "version": 3
   },
   "file_extension": ".py",
   "mimetype": "text/x-python",
   "name": "python",
   "nbconvert_exporter": "python",
   "pygments_lexer": "ipython3",
   "version": "3.11.5"
  },
  "vscode": {
   "interpreter": {
    "hash": "0d3b56f35093c43ef3a807ec55a8177d3d51ef411c9a162a01ec53961f392e60"
   }
  }
 },
 "nbformat": 4,
 "nbformat_minor": 5
}
